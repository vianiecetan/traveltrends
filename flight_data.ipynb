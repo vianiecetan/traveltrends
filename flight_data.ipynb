{
 "cells": [
  {
   "cell_type": "markdown",
   "metadata": {},
   "source": [
    "# Section 1: Downloading Flight datasets\n",
    "\n",
    "This section downloads both departure and arrival dataset from [tablebuilder.singsat](https://tablebuilder.singstat.gov.sg/), Depart of Statistics Singapore website. Files are dowloaded in our google drive and extract from there in the code."
   ]
  },
  {
   "cell_type": "code",
   "execution_count": null,
   "metadata": {},
   "outputs": [],
   "source": [
    "#To download from google drive\n",
    "pip install gdown"
   ]
  },
  {
   "cell_type": "markdown",
   "metadata": {},
   "source": [
    "## Section 1.1 : Downloading Flight Departure "
   ]
  },
  {
   "cell_type": "code",
   "execution_count": null,
   "metadata": {},
   "outputs": [],
   "source": [
    "import gdown\n",
    "import pandas as pd\n",
    "\n",
    "# Google Drive Departure Dataset 23/24 ID\n",
    "file_id = \"1CfEgn8RMfwpG_0RyUc3RvQFf03_LWQRQ\"\n",
    "file_name = \"departure-23-24.csv\"\n",
    "\n",
    "# Download the file\n",
    "gdown.download(f\"https://drive.google.com/uc?id={file_id}\", file_name, quiet=False)\n",
    "\n",
    "# Load the CSV file into a Pandas DataFrame\n",
    "df = pd.read_csv(file_name, header=9)\n",
    "\n",
    "# Remove NaN entries\n",
    "df = df.dropna()\n",
    "\n",
    "df.set_index(df.columns[0], inplace=True)\n",
    "\n",
    "# Transpose the DataFrame (convert months → columns, countries → rows)\n",
    "df = df.T.reset_index()\n",
    "\n",
    "# Rename columns\n",
    "df.rename(columns={\"index\": \"Country\"}, inplace=True)\n",
    "\n",
    "# Reshape using melt()\n",
    "df_long = df.melt(id_vars=[\"Country\"], var_name=\"Month (YYYY-MM)\", value_name=\"Departures\")\n",
    "\n",
    "# Save or display results\n",
    "df_long.to_csv(\"departures_refactor.csv\", index=False)\n",
    "print(df_long.head())  # View first few rows\n"
   ]
  },
  {
   "cell_type": "code",
   "execution_count": null,
   "metadata": {},
   "outputs": [],
   "source": [
    "\n",
    "pd.set_option('display.max_colwidth', None)  # Show full content of each column\n",
    "pd.set_option('display.max_rows', None)      # Show all rows\n",
    "pd.set_option('display.max_columns', None)\n",
    "\n",
    "# Remove the common prefix and suffix from the 'Country' column\n",
    "df_long['Country'] = df_long['Country'].str.replace('Number Of Air Passenger Departures -> ', '', regex=False)\n",
    "df_long['Country'] = df_long['Country'].str.replace(' (Number)', '', regex=False)\n",
    "\n",
    "# Display the updated DataFrame\n",
    "print(df_long.head(30))"
   ]
  },
  {
   "cell_type": "code",
   "execution_count": null,
   "metadata": {},
   "outputs": [],
   "source": [
    "# Create a new DataFrame with only country names\n",
    "df_countries = df_long[df_long['Country'].str.contains('->')].copy()\n",
    "\n",
    "# Extract the country names by splitting and taking the last part\n",
    "df_countries['Country'] = df_countries['Country'].apply(lambda x: x.split('->')[-1].strip())\n",
    "\n",
    "# Display the new DataFrame\n",
    "df_countries"
   ]
  }
 ],
 "metadata": {
  "kernelspec": {
   "display_name": "Python 3",
   "language": "python",
   "name": "python3"
  },
  "language_info": {
   "codemirror_mode": {
    "name": "ipython",
    "version": 3
   },
   "file_extension": ".py",
   "mimetype": "text/x-python",
   "name": "python",
   "nbconvert_exporter": "python",
   "pygments_lexer": "ipython3",
   "version": "3.10.7"
  }
 },
 "nbformat": 4,
 "nbformat_minor": 2
}
