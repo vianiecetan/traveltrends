{
 "cells": [
  {
   "cell_type": "markdown",
   "metadata": {},
   "source": [
    "# Section 1: Downloading Flight datasets\n",
    "\n",
    "This section downloads both departure and arrival dataset from [tablebuilder.singsat](https://tablebuilder.singstat.gov.sg/), Depart of Statistics Singapore website. Files are dowloaded in our google drive and extract from there in the code."
   ]
  },
  {
   "cell_type": "code",
   "execution_count": null,
   "metadata": {},
   "outputs": [],
   "source": [
    "#To download from google drive\n",
    "pip install gdown"
   ]
  },
  {
   "cell_type": "markdown",
   "metadata": {},
   "source": [
    "## Section 1.1 : Downloading Flight Departure For Testing"
   ]
  },
  {
   "cell_type": "code",
   "execution_count": null,
   "metadata": {},
   "outputs": [],
   "source": [
    "import gdown\n",
    "import pandas as pd\n",
    "\n",
    "# Google Drive Departure Dataset 23/24 ID\n",
    "fileDep_id = \"1CfEgn8RMfwpG_0RyUc3RvQFf03_LWQRQ\"\n",
    "fileDep_name = \"departure-23-24.csv\"\n",
    "\n",
    "# Download the file\n",
    "gdown.download(f\"https://drive.google.com/uc?id={fileDep_id}\", fileDep_name, quiet=False)\n",
    "\n",
    "# Load the CSV file into a Pandas DataFrame\n",
    "df_d = pd.read_csv(fileDep_name, header=9)\n",
    "\n",
    "# Remove NaN entries\n",
    "df_d = df_d.dropna()\n",
    "\n",
    "df_d.set_index(df_d.columns[0], inplace=True)\n",
    "\n",
    "# Transpose the DataFrame (convert months → columns, countries → rows)\n",
    "df_d = df_d.T.reset_index()\n",
    "\n",
    "# Rename columns\n",
    "df_d.rename(columns={\"index\": \"Country\"}, inplace=True)\n",
    "\n",
    "# Reshape using melt()\n",
    "df_long = df_d.melt(id_vars=[\"Country\"], var_name=\"Month (YYYY-MM)\", value_name=\"Departures\")\n",
    "\n",
    "# Save or display results\n",
    "#df_long.to_csv(\"departures_refactor.csv\", index=False)\n",
    "print(df_long.head())  # View first few rows\n"
   ]
  },
  {
   "cell_type": "code",
   "execution_count": null,
   "metadata": {},
   "outputs": [],
   "source": [
    "\n",
    "pd.set_option('display.max_colwidth', None)  # Show full content of each column\n",
    "pd.set_option('display.max_rows', None)      # Show all rows\n",
    "pd.set_option('display.max_columns', None)\n",
    "\n",
    "# Remove the common prefix and suffix from the 'Country' column\n",
    "df_long['Country'] = df_long['Country'].str.replace('Number Of Air Passenger Departures -> ', '', regex=False)\n",
    "df_long['Country'] = df_long['Country'].str.replace(' (Number)', '', regex=False)\n",
    "\n",
    "# Display the updated DataFrame\n",
    "print(df_long.head(30))"
   ]
  },
  {
   "cell_type": "code",
   "execution_count": null,
   "metadata": {},
   "outputs": [],
   "source": [
    "# Create a new DataFrame with only country names\n",
    "df_countries = df_long[df_long['Country'].str.contains('->')].copy()\n",
    "\n",
    "# Extract the country names by splitting and taking the last part\n",
    "df_countries['Country'] = df_countries['Country'].apply(lambda x: x.split('->')[-1].strip())\n",
    "\n",
    "# Rest index numbering for each entry\n",
    "df_countries_index = df_countries.reset_index(drop=True)\n",
    "\n",
    "# Change to interger type for Departure column\n",
    "df_countries_index['Departures'] = df_countries_index['Departures'].astype(int)\n",
    "\n",
    "# Display the new DataFrame\n",
    "df_countries_index"
   ]
  },
  {
   "cell_type": "markdown",
   "metadata": {},
   "source": [
    "## Section 1.2 : Downloading Flight Arrivals For Testing"
   ]
  },
  {
   "cell_type": "code",
   "execution_count": null,
   "metadata": {},
   "outputs": [],
   "source": [
    "import gdown\n",
    "import pandas as pd\n",
    "\n",
    "# Google Drive Arrival Dataset 23/24 ID\n",
    "fileArr_id = \"10KuTnelehV6N54pZos56sXkVH7Z5HIfY\"\n",
    "fileArr_name = \"arrival-23-24.csv\"\n",
    "\n",
    "\n",
    "# Download the file\n",
    "gdown.download(f\"https://drive.google.com/uc?id={fileArr_id}\", fileArr_name, quiet=False)\n",
    "\n",
    "# Load the CSV file into a Pandas DataFrame\n",
    "df_a = pd.read_csv(fileArr_name, header=9)\n",
    "\n",
    "# Remove NaN entries\n",
    "df_a = df_a.dropna()\n",
    "\n",
    "df_a.set_index(df_a.columns[0], inplace=True)\n",
    "\n",
    "# Transpose the DataFrame (convert months → columns, countries → rows)\n",
    "df_a = df_a.T.reset_index()\n",
    "\n",
    "# Rename columns\n",
    "df_a.rename(columns={\"index\": \"Country\"}, inplace=True)\n",
    "\n",
    "# Reshape using melt()\n",
    "df_arr = df_a.melt(id_vars=[\"Country\"], var_name=\"Month (YYYY-MM)\", value_name=\"Arrivals\")\n",
    "\n",
    "# Save or display results\n",
    "df_arr.to_csv(\"arrival_refactor.csv\", index=False)\n",
    "print(df_arr.head())  # View first few rows\n"
   ]
  },
  {
   "cell_type": "code",
   "execution_count": null,
   "metadata": {},
   "outputs": [],
   "source": [
    "\n",
    "pd.set_option('display.max_colwidth', None)  # Show full content of each column\n",
    "pd.set_option('display.max_rows', None)      # Show all rows\n",
    "pd.set_option('display.max_columns', None)\n",
    "\n",
    "# Remove the common prefix and suffix from the 'Country' column\n",
    "df_arr['Country'] = df_arr['Country'].str.replace('Number Of Air Passenger Arrivals -> ', '', regex=False)\n",
    "df_arr['Country'] = df_arr['Country'].str.replace(' (Number)', '', regex=False)\n",
    "\n",
    "# Display the updated DataFrame\n",
    "print(df_arr.head(30))"
   ]
  },
  {
   "cell_type": "code",
   "execution_count": null,
   "metadata": {},
   "outputs": [],
   "source": [
    "# Create a new DataFrame with only country names\n",
    "df_countries_arr = df_arr[df_arr['Country'].str.contains('->')].copy()\n",
    "\n",
    "# Extract the country names by splitting and taking the last part\n",
    "df_countries_arr['Country'] = df_countries_arr['Country'].apply(lambda x: x.split('->')[-1].strip())\n",
    "\n",
    "# Rest index numbering for each entry\n",
    "df_countries_index_arr = df_countries_arr.reset_index(drop=True)\n",
    "\n",
    "# Change to interger type for Arrivals column\n",
    "df_countries_index_arr['Arrivals'] = pd.to_numeric(df_countries_index_arr['Arrivals'], errors='coerce').fillna(0).astype(int)\n",
    "\n",
    "# Display the new DataFrame\n",
    "df_countries_index_arr"
   ]
  }
 ],
 "metadata": {
  "kernelspec": {
   "display_name": "Python 3",
   "language": "python",
   "name": "python3"
  },
  "language_info": {
   "codemirror_mode": {
    "name": "ipython",
    "version": 3
   },
   "file_extension": ".py",
   "mimetype": "text/x-python",
   "name": "python",
   "nbconvert_exporter": "python",
   "pygments_lexer": "ipython3",
   "version": "3.10.7"
  }
 },
 "nbformat": 4,
 "nbformat_minor": 2
}
