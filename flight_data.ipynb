{
 "cells": [
  {
   "cell_type": "markdown",
   "metadata": {},
   "source": [
    "# Section 1: Downloading Flight for Testing datasets\n",
    "\n",
    "This section downloads both departure and arrival dataset from [tablebuilder.singsat](https://tablebuilder.singstat.gov.sg/), Depart of Statistics Singapore website. Files are dowloaded in our google drive and extract from there in the code. 2023-2024 will represent 30%."
   ]
  },
  {
   "cell_type": "code",
   "execution_count": null,
   "metadata": {},
   "outputs": [],
   "source": [
    "#To download from google drive\n",
    "pip install gdown"
   ]
  },
  {
   "cell_type": "markdown",
   "metadata": {},
   "source": [
    "## Section 1.1 : Downloading Flight Departure For Testing"
   ]
  },
  {
   "cell_type": "code",
   "execution_count": null,
   "metadata": {},
   "outputs": [],
   "source": [
    "import gdown\n",
    "import pandas as pd\n",
    "\n",
    "# Google Drive Departure Dataset 23/24 ID\n",
    "fileDep_id = \"1CfEgn8RMfwpG_0RyUc3RvQFf03_LWQRQ\"\n",
    "fileDep_name = \"departure_test-23-24.csv\"\n",
    "\n",
    "# Download the file\n",
    "gdown.download(f\"https://drive.google.com/uc?id={fileDep_id}\", fileDep_name, quiet=False)\n",
    "\n",
    "# Load the CSV file into a Pandas DataFrame\n",
    "df_d_test = pd.read_csv(fileDep_name, header=9)\n",
    "\n",
    "# Remove NaN entries\n",
    "df_d_test = df_d_test.dropna()\n",
    "\n",
    "df_d_test.set_index(df_d_test.columns[0], inplace=True)\n",
    "\n",
    "# Transpose the DataFrame (convert months → columns, countries → rows)\n",
    "df_d_test = df_d_test.T.reset_index()\n",
    "\n",
    "# Rename columns\n",
    "df_d_test.rename(columns={\"index\": \"Country\"}, inplace=True)\n",
    "\n",
    "# Reshape using melt()\n",
    "df_long_test = df_d_test.melt(id_vars=[\"Country\"], var_name=\"Month (YYYY-MM)\", value_name=\"Departures\")\n",
    "\n",
    "# Save or display results\n",
    "#df_long.to_csv(\"departures_refactor.csv\", index=False)\n",
    "print(df_long_test.head())  # View first few rows\n"
   ]
  },
  {
   "cell_type": "code",
   "execution_count": null,
   "metadata": {},
   "outputs": [],
   "source": [
    "\n",
    "pd.set_option('display.max_colwidth', None)  # Show full content of each column\n",
    "pd.set_option('display.max_rows', None)      # Show all rows\n",
    "pd.set_option('display.max_columns', None)\n",
    "\n",
    "# Remove the common prefix and suffix from the 'Country' column\n",
    "df_long_test['Country'] = df_long_test['Country'].str.replace('Number Of Air Passenger Departures -> ', '', regex=False)\n",
    "df_long_test['Country'] = df_long_test['Country'].str.replace(' (Number)', '', regex=False)\n",
    "\n",
    "# Display the updated DataFrame\n",
    "print(df_long_test.head(30))"
   ]
  },
  {
   "cell_type": "code",
   "execution_count": 10,
   "metadata": {},
   "outputs": [],
   "source": [
    "# Create a new DataFrame with only country names\n",
    "df_countries_test = df_long_test[df_long_test['Country'].str.contains('->')].copy()\n",
    "\n",
    "# Extract the country names by splitting and taking the last part\n",
    "df_countries_test['Country'] = df_countries_test['Country'].apply(lambda x: x.split('->')[-1].strip())\n",
    "\n",
    "# Rest index numbering for each entry\n",
    "df_countries_index_test = df_countries_test.reset_index(drop=True)\n",
    "\n",
    "# Change to interger type for Departure column\n",
    "df_countries_index_test['Departures'] = df_countries_index_test['Departures'].astype(int)\n",
    "\n",
    "df_countries_index_test['Month (YYYY-MM)'] = pd.to_datetime(\n",
    "    df_countries_index_test['Month (YYYY-MM)'].str.strip(), format='%Y %b'\n",
    ").dt.strftime('%Y-%m')\n",
    "\n",
    "\n",
    "# Export into CSV\n",
    "df_countries_index_test.to_csv(\"departures_test_final.csv\", index=False)\n",
    "\n",
    "# Display the new DataFrame\n",
    "df_countries_index_dep_test = df_countries_index_test\n",
    "\n",
    "\n"
   ]
  },
  {
   "cell_type": "markdown",
   "metadata": {},
   "source": [
    "## Section 1.2 : Downloading Flight Arrivals For Testing"
   ]
  },
  {
   "cell_type": "code",
   "execution_count": null,
   "metadata": {},
   "outputs": [],
   "source": [
    "import gdown\n",
    "import pandas as pd\n",
    "\n",
    "# Google Drive Arrival Dataset 23/24 ID\n",
    "fileArr_id = \"10KuTnelehV6N54pZos56sXkVH7Z5HIfY\"\n",
    "fileArr_name = \"arrival_test-23-24.csv\"\n",
    "\n",
    "\n",
    "# Download the file\n",
    "gdown.download(f\"https://drive.google.com/uc?id={fileArr_id}\", fileArr_name, quiet=False)\n",
    "\n",
    "# Load the CSV file into a Pandas DataFrame\n",
    "df_a_test = pd.read_csv(fileArr_name, header=9)\n",
    "\n",
    "# Remove NaN entries\n",
    "df_a_test = df_a_test.dropna()\n",
    "\n",
    "df_a_test.set_index(df_a_test.columns[0], inplace=True)\n",
    "\n",
    "# Transpose the DataFrame (convert months → columns, countries → rows)\n",
    "df_a_test = df_a_test.T.reset_index()\n",
    "\n",
    "# Rename columns\n",
    "df_a_test.rename(columns={\"index\": \"Country\"}, inplace=True)\n",
    "\n",
    "# Reshape using melt()\n",
    "df_arr_test = df_a_test.melt(id_vars=[\"Country\"], var_name=\"Month (YYYY-MM)\", value_name=\"Arrivals\")\n",
    "\n",
    "# Save or display results\n",
    "print(df_arr_test.head())  # View first few rows\n"
   ]
  },
  {
   "cell_type": "code",
   "execution_count": null,
   "metadata": {},
   "outputs": [],
   "source": [
    "\n",
    "pd.set_option('display.max_colwidth', None)  # Show full content of each column\n",
    "pd.set_option('display.max_rows', None)      # Show all rows\n",
    "pd.set_option('display.max_columns', None)\n",
    "\n",
    "# Remove the common prefix and suffix from the 'Country' column\n",
    "df_arr_test['Country'] = df_arr_test['Country'].str.replace('Number Of Air Passenger Arrivals -> ', '', regex=False)\n",
    "df_arr_test['Country'] = df_arr_test['Country'].str.replace(' (Number)', '', regex=False)\n",
    "\n",
    "# Display the updated DataFrame\n",
    "print(df_arr_test.head(30))"
   ]
  },
  {
   "cell_type": "code",
   "execution_count": null,
   "metadata": {},
   "outputs": [],
   "source": [
    "# Create a new DataFrame with only country names\n",
    "df_countries_arr_test = df_arr_test[df_arr_test['Country'].str.contains('->')].copy()\n",
    "\n",
    "# Extract the country names by splitting and taking the last part\n",
    "df_countries_arr_test['Country'] = df_countries_arr_test['Country'].apply(lambda x: x.split('->')[-1].strip())\n",
    "\n",
    "# Rest index numbering for each entry\n",
    "df_countries_index_arr_test = df_countries_arr_test.reset_index(drop=True)\n",
    "\n",
    "# Change to interger type for Arrivals column\n",
    "df_countries_index_arr_test['Arrivals'] = pd.to_numeric(df_countries_index_arr_test['Arrivals'], errors='coerce').fillna(0).astype(int)\n",
    "\n",
    "# Changing format for date \n",
    "df_countries_index_arr_test['Month (YYYY-MM)'] = pd.to_datetime(\n",
    "    df_countries_index_arr_test['Month (YYYY-MM)'].str.strip(), format='%Y %b'\n",
    ").dt.strftime('%Y-%m')\n",
    "\n",
    "# Export to CSV\n",
    "df_countries_index_arr_test.to_csv(\"arrivals_test_final.csv\", index=False)\n",
    "\n",
    "# Display the new DataFrame\n",
    "df_countries_index_arr_test"
   ]
  },
  {
   "cell_type": "markdown",
   "metadata": {},
   "source": [
    "## Section 1.3 : Merging Flight Departures & Arrivals For Testing"
   ]
  },
  {
   "cell_type": "code",
   "execution_count": 14,
   "metadata": {},
   "outputs": [],
   "source": [
    "import pandas as pd\n",
    "\n",
    "# Merge based on 'Country' and 'Month (YYYY-MM)'\n",
    "merged_df_test = pd.merge(df_countries_index_arr_test, df_countries_index_dep_test, on=[\"Country\", \"Month (YYYY-MM)\"], how=\"inner\")\n",
    "\n",
    "merged_df_test.to_csv(\"merged_flight_testing.csv\",index=False )\n"
   ]
  },
  {
   "cell_type": "markdown",
   "metadata": {},
   "source": [
    "# Section 2: Downloading Flight Training datasets\n",
    "\n",
    "This section downloads both departure and arrival dataset from [tablebuilder.singsat](https://tablebuilder.singstat.gov.sg/), Depart of Statistics Singapore website. Files are dowloaded in our google drive and extract from there in the code. Remaining 70% will be base of (24 months / 30%) * 70% = **56 months**. We will take 56 months before [covid-19](https://en.wikipedia.org/wiki/COVID-19_pandemic#:~:text=The%20COVID%2D19%20pandemic%20(also,then%20worldwide%20in%20early%202020.))(Dec 19) as it will be the outlier of our dataset."
   ]
  },
  {
   "cell_type": "markdown",
   "metadata": {},
   "source": [
    "## Section 2.1 : Downloading Flight Departure For Training"
   ]
  },
  {
   "cell_type": "code",
   "execution_count": null,
   "metadata": {},
   "outputs": [],
   "source": [
    "import gdown\n",
    "import pandas as pd\n",
    "\n",
    "# Google Drive Departure Dataset 15/19 ID\n",
    "fileDep_id = \"12IQx7qGJGd3i1rUVUo5L1eaN7lGa9H16\"\n",
    "fileDep_name = \"departure_train-15-24.csv\"\n",
    "\n",
    "# Download the file\n",
    "gdown.download(f\"https://drive.google.com/uc?id={fileDep_id}\", fileDep_name, quiet=False)\n",
    "\n",
    "# Load the CSV file into a Pandas DataFrame\n",
    "df_d_train = pd.read_csv(fileDep_name, header=9)\n",
    "\n",
    "# Remove NaN entries\n",
    "df_d_train = df_d_train.dropna()\n",
    "\n",
    "df_d_train.set_index(df_d_train.columns[0], inplace=True)\n",
    "\n",
    "# Transpose the DataFrame (convert months → columns, countries → rows)\n",
    "df_d_train = df_d_train.T.reset_index()\n",
    "\n",
    "# Rename columns\n",
    "df_d_train.rename(columns={\"index\": \"Country\"}, inplace=True)\n",
    "\n",
    "# Reshape using melt()\n",
    "df_long_train = df_d_train.melt(id_vars=[\"Country\"], var_name=\"Month (YYYY-MM)\", value_name=\"Departures\")\n",
    "\n",
    "# Save or display results\n",
    "#df_long.to_csv(\"departures_refactor.csv\", index=False)\n",
    "print(df_long_train.head())  # View first few rows\n"
   ]
  },
  {
   "cell_type": "code",
   "execution_count": null,
   "metadata": {},
   "outputs": [],
   "source": [
    "\n",
    "pd.set_option('display.max_colwidth', None)  # Show full content of each column\n",
    "pd.set_option('display.max_rows', None)      # Show all rows\n",
    "pd.set_option('display.max_columns', None)\n",
    "\n",
    "# Remove the common prefix and suffix from the 'Country' column\n",
    "df_long_train['Country'] = df_long_train['Country'].str.replace('Number Of Air Passenger Departures -> ', '', regex=False)\n",
    "df_long_train['Country'] = df_long_train['Country'].str.replace(' (Number)', '', regex=False)\n",
    "\n",
    "# Display the updated DataFrame\n",
    "print(df_long_train.head(30))"
   ]
  },
  {
   "cell_type": "code",
   "execution_count": 17,
   "metadata": {},
   "outputs": [],
   "source": [
    "# Create a new DataFrame with only country names\n",
    "df_countries_train = df_long_train[df_long_train['Country'].str.contains('->')].copy()\n",
    "\n",
    "# Extract the country names by splitting and taking the last part\n",
    "df_countries_train['Country'] = df_countries_train['Country'].apply(lambda x: x.split('->')[-1].strip())\n",
    "\n",
    "# Rest index numbering for each entry\n",
    "df_countries_index_train = df_countries_train.reset_index(drop=True)\n",
    "\n",
    "# Change to interger type for Departure column\n",
    "df_countries_index_train['Departures'] = df_countries_index_train['Departures'].astype(int)\n",
    "\n",
    "df_countries_index_train['Month (YYYY-MM)'] = pd.to_datetime(\n",
    "    df_countries_index_train['Month (YYYY-MM)'].str.strip(), format='%Y %b'\n",
    ").dt.strftime('%Y-%m')\n",
    "\n",
    "\n",
    "# Export into CSV\n",
    "df_countries_index_train.to_csv(\"departures_train_final.csv\", index=False)\n",
    "\n",
    "# Display the new DataFrame\n",
    "df_countries_index_dep_train = df_countries_index_train\n",
    "\n",
    "\n"
   ]
  },
  {
   "cell_type": "markdown",
   "metadata": {},
   "source": [
    "## Section 2.2 : Downloading Flight Arrivals For Training"
   ]
  },
  {
   "cell_type": "code",
   "execution_count": null,
   "metadata": {},
   "outputs": [],
   "source": [
    "import gdown\n",
    "import pandas as pd\n",
    "\n",
    "# Google Drive Arrival Dataset 15/19 ID\n",
    "fileArr_id = \"1KayLfND03TnB7JNCERYAV1d6GaDPpN2L\"\n",
    "fileArr_name = \"arrival_test-15-19.csv\"\n",
    "\n",
    "\n",
    "# Download the file\n",
    "gdown.download(f\"https://drive.google.com/uc?id={fileArr_id}\", fileArr_name, quiet=False)\n",
    "\n",
    "# Load the CSV file into a Pandas DataFrame\n",
    "df_a_train = pd.read_csv(fileArr_name, header=9)\n",
    "\n",
    "# Remove NaN entries\n",
    "df_a_train = df_a_train.dropna()\n",
    "\n",
    "df_a_train.set_index(df_a_train.columns[0], inplace=True)\n",
    "\n",
    "# Transpose the DataFrame (convert months → columns, countries → rows)\n",
    "df_a_train = df_a_train.T.reset_index()\n",
    "\n",
    "# Rename columns\n",
    "df_a_train.rename(columns={\"index\": \"Country\"}, inplace=True)\n",
    "\n",
    "# Reshape using melt()\n",
    "df_arr_train = df_a_train.melt(id_vars=[\"Country\"], var_name=\"Month (YYYY-MM)\", value_name=\"Arrivals\")\n",
    "\n",
    "# Save or display results\n",
    "print(df_arr_train.head())  # View first few rows\n"
   ]
  },
  {
   "cell_type": "code",
   "execution_count": null,
   "metadata": {},
   "outputs": [],
   "source": [
    "\n",
    "pd.set_option('display.max_colwidth', None)  # Show full content of each column\n",
    "pd.set_option('display.max_rows', None)      # Show all rows\n",
    "pd.set_option('display.max_columns', None)\n",
    "\n",
    "# Remove the common prefix and suffix from the 'Country' column\n",
    "df_arr_train['Country'] = df_arr_train['Country'].str.replace('Number Of Air Passenger Arrivals -> ', '', regex=False)\n",
    "df_arr_train['Country'] = df_arr_train['Country'].str.replace(' (Number)', '', regex=False)\n",
    "\n",
    "# Display the updated DataFrame\n",
    "print(df_arr_train.head(30))"
   ]
  },
  {
   "cell_type": "code",
   "execution_count": null,
   "metadata": {},
   "outputs": [],
   "source": [
    "# Create a new DataFrame with only country names\n",
    "df_countries_arr_train = df_arr_train[df_arr_train['Country'].str.contains('->')].copy()\n",
    "\n",
    "# Extract the country names by splitting and taking the last part\n",
    "df_countries_arr_train['Country'] = df_countries_arr_train['Country'].apply(lambda x: x.split('->')[-1].strip())\n",
    "\n",
    "# Rest index numbering for each entry\n",
    "df_countries_index_arr_train = df_countries_arr_train.reset_index(drop=True)\n",
    "\n",
    "# Change to interger type for Arrivals column\n",
    "df_countries_index_arr_train['Arrivals'] = pd.to_numeric(df_countries_index_arr_train['Arrivals'], errors='coerce').fillna(0).astype(int)\n",
    "\n",
    "# Changing format for date \n",
    "df_countries_index_arr_train['Month (YYYY-MM)'] = pd.to_datetime(\n",
    "    df_countries_index_arr_train['Month (YYYY-MM)'].str.strip(), format='%Y %b'\n",
    ").dt.strftime('%Y-%m')\n",
    "\n",
    "# Export to CSV\n",
    "df_countries_index_arr_train.to_csv(\"arrivals_train_final.csv\", index=False)\n",
    "\n",
    "# Display the new DataFrame\n",
    "df_countries_index_arr_train"
   ]
  },
  {
   "cell_type": "markdown",
   "metadata": {},
   "source": [
    "## Section 1.3 : Merging Flight Departures & Arrivals For Testing"
   ]
  },
  {
   "cell_type": "code",
   "execution_count": 21,
   "metadata": {},
   "outputs": [],
   "source": [
    "import pandas as pd\n",
    "\n",
    "# Merge based on 'Country' and 'Month (YYYY-MM)'\n",
    "merged_df_train = pd.merge(df_countries_index_arr_train, df_countries_index_dep_train, on=[\"Country\", \"Month (YYYY-MM)\"], how=\"inner\")\n",
    "\n",
    "merged_df_train.to_csv(\"merged_flight_train.csv\",index=False )\n"
   ]
  }
 ],
 "metadata": {
  "kernelspec": {
   "display_name": "Python 3",
   "language": "python",
   "name": "python3"
  },
  "language_info": {
   "codemirror_mode": {
    "name": "ipython",
    "version": 3
   },
   "file_extension": ".py",
   "mimetype": "text/x-python",
   "name": "python",
   "nbconvert_exporter": "python",
   "pygments_lexer": "ipython3",
   "version": "3.10.7"
  }
 },
 "nbformat": 4,
 "nbformat_minor": 2
}
