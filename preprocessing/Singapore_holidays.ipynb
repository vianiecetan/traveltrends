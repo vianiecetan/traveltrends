{
  "nbformat": 4,
  "nbformat_minor": 0,
  "metadata": {
    "colab": {
      "provenance": []
    },
    "kernelspec": {
      "name": "python3",
      "display_name": "Python 3"
    },
    "language_info": {
      "name": "python"
    }
  },
  "cells": [
    {
      "cell_type": "markdown",
      "source": [
        "**Web crawling from www.timeanddate.com to extract holidays in Singapore**\n",
        "\n",
        "This section of the script scrapes holiday data from the \"timeanddate.com\" website for singapore for different years, and saves the results in an Excel file.\n",
        "\n",
        "\n",
        "1.   **Imports Libraries**: It uses requests for making HTTP requests, BeautifulSoup for parsing HTML, pandas for organizing data, and tqdm for showing a progress bar.\n",
        "2.    **Prepares for Data Collection**: It sets up a dictionary to hold holiday data for each year.\n",
        "3.   **Scrapes Data**: For each year, it sends a request, extracts the holiday data from the webpage, and adds it to the dictionary.\n",
        "4.   **Stores and Saves Data**: The collected data is stored in a pandas DataFrame and saved to an Excel file."
      ],
      "metadata": {
        "id": "kMdsD4hzP268"
      }
    },
    {
      "cell_type": "code",
      "source": [
        "pip install requests beautifulsoup4 pandas openpyxl"
      ],
      "metadata": {
        "colab": {
          "base_uri": "https://localhost:8080/"
        },
        "collapsed": true,
        "id": "2p6PsSsQBAAe",
        "outputId": "7229d42b-ef18-4e45-dcf6-35c277879c58"
      },
      "execution_count": null,
      "outputs": [
        {
          "output_type": "stream",
          "name": "stdout",
          "text": [
            "Requirement already satisfied: requests in /usr/local/lib/python3.11/dist-packages (2.32.3)\n",
            "Requirement already satisfied: beautifulsoup4 in /usr/local/lib/python3.11/dist-packages (4.13.3)\n",
            "Requirement already satisfied: pandas in /usr/local/lib/python3.11/dist-packages (2.2.2)\n",
            "Requirement already satisfied: openpyxl in /usr/local/lib/python3.11/dist-packages (3.1.5)\n",
            "Requirement already satisfied: charset-normalizer<4,>=2 in /usr/local/lib/python3.11/dist-packages (from requests) (3.4.1)\n",
            "Requirement already satisfied: idna<4,>=2.5 in /usr/local/lib/python3.11/dist-packages (from requests) (3.10)\n",
            "Requirement already satisfied: urllib3<3,>=1.21.1 in /usr/local/lib/python3.11/dist-packages (from requests) (2.3.0)\n",
            "Requirement already satisfied: certifi>=2017.4.17 in /usr/local/lib/python3.11/dist-packages (from requests) (2025.1.31)\n",
            "Requirement already satisfied: soupsieve>1.2 in /usr/local/lib/python3.11/dist-packages (from beautifulsoup4) (2.6)\n",
            "Requirement already satisfied: typing-extensions>=4.0.0 in /usr/local/lib/python3.11/dist-packages (from beautifulsoup4) (4.12.2)\n",
            "Requirement already satisfied: numpy>=1.23.2 in /usr/local/lib/python3.11/dist-packages (from pandas) (1.26.4)\n",
            "Requirement already satisfied: python-dateutil>=2.8.2 in /usr/local/lib/python3.11/dist-packages (from pandas) (2.8.2)\n",
            "Requirement already satisfied: pytz>=2020.1 in /usr/local/lib/python3.11/dist-packages (from pandas) (2025.1)\n",
            "Requirement already satisfied: tzdata>=2022.7 in /usr/local/lib/python3.11/dist-packages (from pandas) (2025.1)\n",
            "Requirement already satisfied: et-xmlfile in /usr/local/lib/python3.11/dist-packages (from openpyxl) (2.0.0)\n",
            "Requirement already satisfied: six>=1.5 in /usr/local/lib/python3.11/dist-packages (from python-dateutil>=2.8.2->pandas) (1.17.0)\n"
          ]
        }
      ]
    },
    {
      "cell_type": "markdown",
      "source": [
        "Extract Holidays in Singapore"
      ],
      "metadata": {
        "id": "WpaJ86U5LPRJ"
      }
    },
    {
      "cell_type": "code",
      "source": [
        "import requests\n",
        "from bs4 import BeautifulSoup\n",
        "import pandas as pd\n",
        "from tqdm import tqdm\n",
        "from datetime import datetime\n",
        "import itertools\n",
        "\n",
        "# Base URL template\n",
        "BASE_URL = \"https://www.timeanddate.com/calendar/custom.html?year={year}&country={country}&cols=3&df=1&hol=1&lang=en\"\n",
        "\n",
        "# Set the country Singapore\n",
        "country_code = \"63\"\n",
        "\n",
        "# Set the years to extract 2000-2025\n",
        "years = list(range(2000, 2026))\n",
        "\n",
        "# List to store extracted holiday data\n",
        "holiday_data_sg = []\n",
        "\n",
        "def format_date(dd_mmm, year):\n",
        "    try:\n",
        "        # Convert \"1 Jan\" to a datetime object\n",
        "        date_obj = datetime.strptime(f\"{dd_mmm} {year}\", \"%d %b %Y\")\n",
        "\n",
        "        # Convert to required formats\n",
        "        full_date = date_obj.strftime(\"%Y-%m-%d\")  # YYYY-MM-DD\n",
        "\n",
        "        return full_date\n",
        "    except ValueError:\n",
        "        return None, None  # Handle unexpected formats\n",
        "\n",
        "# Iterate over each year\n",
        "for year in tqdm(years, desc=\"Scraping holidays\"):\n",
        "    url = BASE_URL.format(year=year, country=country_code)\n",
        "    resp = requests.get(url)\n",
        "\n",
        "    if resp.status_code == 200:\n",
        "        soup = BeautifulSoup(resp.text, \"html.parser\")\n",
        "        holiday_table = soup.find(\"table\", {\"class\": \"cl1h\"})\n",
        "\n",
        "        if holiday_table:\n",
        "            for holiday_row in holiday_table.find_all(\"tr\"):\n",
        "                date_span = holiday_row.find(\"span\", {\"class\": \"co1\"})\n",
        "                name_td = holiday_row.find(\"a\")\n",
        "\n",
        "                if date_span and name_td:\n",
        "                    raw_date = date_span.text.strip()\n",
        "                    full_date = format_date(raw_date, year)  # Format date\n",
        "                    holiday_name = name_td.text\n",
        "\n",
        "                    if full_date:\n",
        "                        # Append row to list\n",
        "                        holiday_data_sg.append([full_date, holiday_name])\n",
        "\n",
        "# Convert to DataFrame\n",
        "df = pd.DataFrame(holiday_data_sg, columns=[\"Date\", \"Event\"])\n",
        "\n",
        "# Save to Excel\n",
        "df.to_excel(\"singapore_holidays_00_25.xlsx\", index=False)\n",
        "\n",
        "print(\"Data successfully saved to singapore_holidays.xlsx\")"
      ],
      "metadata": {
        "colab": {
          "base_uri": "https://localhost:8080/"
        },
        "id": "7k2BK9gcLOm6",
        "outputId": "6397b10f-a387-4b71-acb1-95e7087efefc"
      },
      "execution_count": 1,
      "outputs": [
        {
          "output_type": "stream",
          "name": "stderr",
          "text": [
            "Scraping holidays: 100%|██████████| 26/26 [00:15<00:00,  1.67it/s]\n"
          ]
        },
        {
          "output_type": "stream",
          "name": "stdout",
          "text": [
            "Data successfully saved to singapore_holidays.xlsx\n"
          ]
        }
      ]
    },
    {
      "cell_type": "markdown",
      "source": [
        "Removing duplicate values"
      ],
      "metadata": {
        "id": "zu6pGL-K-clJ"
      }
    },
    {
      "cell_type": "code",
      "source": [
        "# Load the excel file\n",
        "file_path = \"singapore_holidays_00_25.xlsx\"\n",
        "df = pd.read_excel(file_path)\n",
        "\n",
        "# Remove duplicate rows\n",
        "df_cleaned = df.drop_duplicates()\n",
        "\n",
        "# Save the cleaned data back to an Excel file\n",
        "cleaned_file_path = \"singapore_holidays_00_25.xlsx\"\n",
        "df_cleaned.to_excel(cleaned_file_path, index=False)\n",
        "\n",
        "print(\"Duplicates removed. Cleaned data saved to:\", cleaned_file_path)"
      ],
      "metadata": {
        "colab": {
          "base_uri": "https://localhost:8080/"
        },
        "id": "9m-CRcYcwULD",
        "outputId": "d098a440-492d-42aa-eebb-dcca8acc6516"
      },
      "execution_count": 2,
      "outputs": [
        {
          "output_type": "stream",
          "name": "stdout",
          "text": [
            "Duplicates removed. Cleaned data saved to: singapore_holidays_00_25.xlsx\n"
          ]
        }
      ]
    },
    {
      "cell_type": "markdown",
      "source": [
        "Calculate number of holidays in each month"
      ],
      "metadata": {
        "id": "nTziUjGA-gVq"
      }
    },
    {
      "cell_type": "code",
      "source": [
        "# Load the Excel file\n",
        "file_path = \"singapore_holidays_00_25.xlsx\"\n",
        "df = pd.read_excel(file_path)\n",
        "\n",
        "# 'Date' column to string format\n",
        "df[\"Date\"] = df[\"Date\"].astype(str)\n",
        "\n",
        "# Extract Year and Month from Date\n",
        "df[\"Year\"] = df[\"Date\"].str[:4]  # First 4 characters (YYYY)\n",
        "df[\"Month\"] = df[\"Date\"].str[5:7]  # Characters 6-7 (MM)\n",
        "\n",
        "# Count number of holidays per (Year, Month)\n",
        "holiday_counts = df.groupby([\"Year\", \"Month\"]).size().reset_index(name=\"Total Holidays\")\n",
        "\n",
        "# Create a complete Year-Month grid\n",
        "all_years = df[\"Year\"].unique()\n",
        "all_months = [f\"{m:02d}\" for m in range(1, 13)]\n",
        "\n",
        "full_index = pd.DataFrame(itertools.product(all_years, all_months), columns=[\"Year\", \"Month\"])\n",
        "\n",
        "final_df = full_index.merge(holiday_counts, on=[\"Year\", \"Month\"], how=\"left\").fillna(0)\n",
        "\n",
        "# 'Total Holidays' integer type\n",
        "final_df[\"Total Holidays\"] = final_df[\"Total Holidays\"].astype(int)\n",
        "\n",
        "# Save the transformed data to a new Excel file\n",
        "output_path = \"singapore_holidays_00_25_month.xlsx\"\n",
        "final_df.to_excel(output_path, index=False)\n",
        "\n",
        "print(f\"Modified file saved as: {output_path}\")"
      ],
      "metadata": {
        "colab": {
          "base_uri": "https://localhost:8080/"
        },
        "id": "NsalJvxsSwlH",
        "outputId": "e0dd3066-ee4c-4735-eee6-92735a1f21e1"
      },
      "execution_count": 3,
      "outputs": [
        {
          "output_type": "stream",
          "name": "stdout",
          "text": [
            "Modified file saved as: singapore_holidays_00_25_month.xlsx\n"
          ]
        }
      ]
    }
  ]
}