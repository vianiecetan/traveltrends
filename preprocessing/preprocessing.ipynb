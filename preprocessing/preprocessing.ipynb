{
 "cells": [
  {
   "cell_type": "code",
   "execution_count": 4,
   "metadata": {},
   "outputs": [
    {
     "name": "stdout",
     "output_type": "stream",
     "text": [
      "  Month  Year                             Country  Departures\n",
      "0   Jan  2025  Number Of Air Passenger Departures   2971086.0\n",
      "1   Jan  2025                     South East Asia   1146441.0\n",
      "2   Jan  2025                           Indonesia    330478.0\n",
      "3   Jan  2025                            Malaysia    286238.0\n",
      "4   Jan  2025                         Philippines    129892.0\n"
     ]
    }
   ],
   "source": [
    "import pandas as pd\n",
    "\n",
    "# Load the CSV file\n",
    "df = pd.read_csv(\"M650041.csv\")\n",
    "\n",
    "# Melt the data from wide to long format\n",
    "df_long = df.melt(id_vars=[\"Data Series\"], var_name=\"Month_Year\", value_name=\"Departures\")\n",
    "\n",
    "# Split 'Month_Year' into 'Month' and 'Year'\n",
    "df_long[['Year', 'Month']] = df_long['Month_Year'].str.split(expand=True)\n",
    "\n",
    "# Reorder and rename columns\n",
    "df_long = df_long[['Month', 'Year', 'Data Series', 'Departures']].rename(columns={'Data Series': 'Country'})\n",
    "\n",
    "# Convert 'Departures' to numeric\n",
    "df_long['Departures'] = pd.to_numeric(df_long['Departures'], errors='coerce')\n",
    "\n",
    "# Display result\n",
    "print(df_long.head())\n",
    "\n",
    "# Save to CSV if needed\n",
    "df_long.to_csv(\"formatted_data.csv\", index=False)\n"
   ]
  },
  {
   "cell_type": "code",
   "execution_count": 5,
   "metadata": {},
   "outputs": [
    {
     "name": "stdout",
     "output_type": "stream",
     "text": [
      "  Month  Year                           Country   Arrivals\n",
      "0   Jan  2025  Number Of Air Passenger Arrivals  3130805.0\n",
      "1   Jan  2025                   South East Asia  1189806.0\n",
      "2   Jan  2025                         Indonesia   319040.0\n",
      "3   Jan  2025                          Malaysia   303021.0\n",
      "4   Jan  2025                       Philippines   150016.0\n"
     ]
    }
   ],
   "source": [
    "import pandas as pd\n",
    "\n",
    "# Load the CSV file\n",
    "df = pd.read_csv(\"M650051.csv\")\n",
    "\n",
    "# Melt the data from wide to long format\n",
    "df_long = df.melt(id_vars=[\"Data Series\"], var_name=\"Month_Year\", value_name=\"Arrivals\")\n",
    "\n",
    "# Split 'Month_Year' into 'Month' and 'Year'\n",
    "df_long[['Year', 'Month']] = df_long['Month_Year'].str.split(expand=True)\n",
    "\n",
    "# Reorder and rename columns\n",
    "df_long = df_long[['Month', 'Year', 'Data Series', 'Arrivals']].rename(columns={'Data Series': 'Country'})\n",
    "\n",
    "# Convert 'Arrivals' to numeric\n",
    "df_long['Arrivals'] = pd.to_numeric(df_long['Arrivals'], errors='coerce')\n",
    "\n",
    "# Display result\n",
    "print(df_long.head())\n",
    "\n",
    "# Save to CSV if needed\n",
    "df_long.to_csv(\"arrivals.csv\", index=False)\n"
   ]
  },
  {
   "cell_type": "code",
   "execution_count": 23,
   "metadata": {},
   "outputs": [
    {
     "name": "stdout",
     "output_type": "stream",
     "text": [
      "  Month  Year            Country  Departures   Arrivals\n",
      "0   Jan  2025    South East Asia   1146441.0  1189806.0\n",
      "1   Jan  2025          Indonesia    330478.0   319040.0\n",
      "2   Jan  2025           Malaysia    286238.0   303021.0\n",
      "3   Jan  2025        Philippines    129892.0   150016.0\n",
      "4   Jan  2025           Thailand    246544.0   264939.0\n"
     ]
    }
   ],
   "source": [
    "import pandas as pd\n",
    "\n",
    "# Load departures dataset\n",
    "df_departures = pd.read_csv(\"departures.csv\")\n",
    "\n",
    "# Load arrivals dataset\n",
    "df_arrivals = pd.read_csv(\"arrivals.csv\")\n",
    "\n",
    "# Merge datasets on Year, Month, and Country\n",
    "df_combined = pd.merge(df_departures, df_arrivals, on=['Year', 'Month', 'Country'], how='inner')\n",
    "\n",
    "# Save or display result\n",
    "df_combined.to_csv(\"combined_data.csv\", index=False)\n",
    "print(df_combined.head())\n"
   ]
  },
  {
   "cell_type": "code",
   "execution_count": 51,
   "metadata": {},
   "outputs": [
    {
     "name": "stdout",
     "output_type": "stream",
     "text": [
      "[2025 2024 2023 2022 2021 2020 2019 2018 2017 2016 2015 2014 2013 2012\n",
      " 2011 2010 2009 2008 2007 2006 2005 2004 2003 2002 2001 2000]\n"
     ]
    }
   ],
   "source": [
    "import pandas as pd\n",
    "\n",
    "# Load cleaned dataset\n",
    "df = pd.read_csv(\"combined_data.csv\")\n",
    "\n",
    "# Keep only data from 2000 onwards\n",
    "df = df[df['Year'] >= 2000]\n",
    "\n",
    "print(df['Year'].unique())  "
   ]
  },
  {
   "cell_type": "code",
   "execution_count": 52,
   "metadata": {},
   "outputs": [
    {
     "name": "stdout",
     "output_type": "stream",
     "text": [
      "Training set size: (3672, 5)\n",
      "Testing set size: (450, 5)\n"
     ]
    }
   ],
   "source": [
    "# Clean the leading and trailing spaces in the 'Country' column\n",
    "df['Country'] = df['Country'].str.strip()\n",
    "# Remove rows where 'Country' column contains 'other regions'\n",
    "df = df[df['Country'] != 'Other Regions']\n",
    "\n",
    "df = df.sort_values(by=['Year'], ascending=[True]).reset_index(drop=True)\n",
    "\n",
    "# Define training and testing sets based on years\n",
    "#we took out 2020 to 2022 as these are the years when Covid-19 happened and the laws then may have affected flights.\n",
    "train_df = df[df['Year'] <= 2019]  # Train: 2000-2019\n",
    "train_df = train_df[~train_df['Year'].between(2002, 2004)] #remove years 2002 to 2004 because SARS outbreak happened then\n",
    "test_df = df[df['Year'] >= 2023]   # Test: 2023-2025\n",
    "\n",
    "# Save train and test datasets\n",
    "train_df.to_csv(\"train_data.csv\", index=False)\n",
    "test_df.to_csv(\"test_data.csv\", index=False)\n",
    "\n",
    "print(f\"Training set size: {train_df.shape}\")\n",
    "print(f\"Testing set size: {test_df.shape}\")\n"
   ]
  }
 ],
 "metadata": {
  "kernelspec": {
   "display_name": "Python 3",
   "language": "python",
   "name": "python3"
  },
  "language_info": {
   "codemirror_mode": {
    "name": "ipython",
    "version": 3
   },
   "file_extension": ".py",
   "mimetype": "text/x-python",
   "name": "python",
   "nbconvert_exporter": "python",
   "pygments_lexer": "ipython3",
   "version": "3.12.2"
  }
 },
 "nbformat": 4,
 "nbformat_minor": 2
}
