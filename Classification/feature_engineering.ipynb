{
 "cells": [
  {
   "cell_type": "code",
   "execution_count": 1,
   "metadata": {},
   "outputs": [],
   "source": [
    "import pandas as pd"
   ]
  },
  {
   "cell_type": "code",
   "execution_count": 2,
   "metadata": {},
   "outputs": [],
   "source": [
    "#feature engineering\n",
    "df = pd.read_csv(\"../preprocessing/train_data.csv\")\n",
    "#time-based features\n",
    "# Define mapping of month names to numbers\n",
    "month_mapping = {\n",
    "    'Jan': 1, 'Feb': 2, 'Mar': 3, 'Apr': 4, 'May': 5, 'Jun': 6,\n",
    "    'Jul': 7, 'Aug': 8, 'Sep': 9, 'Oct': 10, 'Nov': 11, 'Dec': 12\n",
    "}\n",
    "\n",
    "df['Month'] = df['Month'].map(month_mapping)\n",
    "\n",
    "# Sort by Year and Month (ascending order)\n",
    "df = df.sort_values(by=['Year', 'Month'], ascending=[True, True]).reset_index(drop=True)\n",
    "\n",
    "# convert month to integer type\n",
    "df['Month'] = df['Month'].astype(int)\n",
    "\n",
    "# Create a 'Quarter' feature\n",
    "df['Quarter'] = ((df['Month'] - 1) // 3) + 1\n",
    "\n",
    "df['Years_Since_2000'] = df['Year'] - 2000\n",
    "\n",
    "df['Departures_Growth'] = df.groupby('Country')['Departures'].pct_change()\n",
    "df['Arrivals_Growth'] = df.groupby('Country')['Arrivals'].pct_change()\n",
    "\n",
    "# Standardize country names (remove extra spaces)\n",
    "df['Country'] = df['Country'].str.strip()\n",
    "\n"
   ]
  },
  {
   "cell_type": "code",
   "execution_count": 3,
   "metadata": {},
   "outputs": [
    {
     "name": "stderr",
     "output_type": "stream",
     "text": [
      "C:\\Users\\Vianiece\\AppData\\Local\\Temp\\ipykernel_33948\\3205859310.py:2: FutureWarning: SeriesGroupBy.fillna is deprecated and will be removed in a future version. Use obj.ffill() or obj.bfill() for forward or backward filling instead. If you want to fill with a single value, use Series.fillna instead\n",
      "  df['Departures_Growth'] = df.groupby('Country')['Departures_Growth'].fillna(0)\n",
      "C:\\Users\\Vianiece\\AppData\\Local\\Temp\\ipykernel_33948\\3205859310.py:3: FutureWarning: SeriesGroupBy.fillna is deprecated and will be removed in a future version. Use obj.ffill() or obj.bfill() for forward or backward filling instead. If you want to fill with a single value, use Series.fillna instead\n",
      "  df['Arrivals_Growth'] = df.groupby('Country')['Arrivals_Growth'].fillna(0)\n"
     ]
    }
   ],
   "source": [
    "# Fill NaN values in the first few rows (likely due to pct_change()) with 0\n",
    "df['Departures_Growth'] = df.groupby('Country')['Departures_Growth'].fillna(0)\n",
    "df['Arrivals_Growth'] = df.groupby('Country')['Arrivals_Growth'].fillna(0)\n"
   ]
  },
  {
   "cell_type": "code",
   "execution_count": 4,
   "metadata": {},
   "outputs": [
    {
     "name": "stdout",
     "output_type": "stream",
     "text": [
      "Updated train_data.csv saved successfully!\n"
     ]
    }
   ],
   "source": [
    "# Save the updated dataset back to the train CSV\n",
    "df.to_csv(\"../preprocessing/train_data.csv\", index=False)\n",
    "\n",
    "print(\"Updated train_data.csv saved successfully!\")\n"
   ]
  },
  {
   "cell_type": "code",
   "execution_count": null,
   "metadata": {},
   "outputs": [
    {
     "name": "stdout",
     "output_type": "stream",
     "text": [
      "   Month  Year         Country  Departures  Arrivals  Quarter  \\\n",
      "0      1  2000   North America     29012.0   26225.0        1   \n",
      "1      1  2000  United Kingdom     46677.0   45630.0        1   \n",
      "2      1  2000         Germany     23172.0   24251.0        1   \n",
      "3      1  2000          France     11098.0   11469.0        1   \n",
      "4      1  2000          Europe    118255.0  119735.0        1   \n",
      "\n",
      "   Years_Since_2000  Departures_Growth  Arrivals_Growth  Total Holidays  \\\n",
      "0                 0                0.0              0.0               2   \n",
      "1                 0                0.0              0.0               2   \n",
      "2                 0                0.0              0.0               2   \n",
      "3                 0                0.0              0.0               2   \n",
      "4                 0                0.0              0.0               2   \n",
      "\n",
      "   Holiday Ratio  \n",
      "0       0.064516  \n",
      "1       0.064516  \n",
      "2       0.064516  \n",
      "3       0.064516  \n",
      "4       0.064516  \n"
     ]
    }
   ],
   "source": [
    "import pandas as pd\n",
    "import calendar  # Importing calendar module\n",
    "\n",
    "# Function to get number of days in a month\n",
    "def days_in_month(year, month):\n",
    "    return calendar.monthrange(year, month)[1]\n",
    "\n",
    "# Load datasets\n",
    "df_main = pd.read_csv(\"../preprocessing/train_data.csv\")\n",
    "df_holidays = pd.read_excel(\"../Dataset/singapore_holidays_00_25_month.xlsx\")\n",
    "\n",
    "# Merge datasets on Year and Month\n",
    "df_merged = df_main.merge(df_holidays, on=['Year', 'Month'], how='left')\n",
    "\n",
    "# Calculate days in each month dynamically\n",
    "df_merged['Days in Month'] = df_merged.apply(lambda row: days_in_month(row['Year'], row['Month']), axis=1)\n",
    "\n",
    "# Calculate Holiday Ratio\n",
    "df_merged['Holiday Ratio'] = df_merged['Total Holidays'] / df_merged['Days in Month']\n",
    "\n",
    "# Drop unnecessary columns\n",
    "df_merged.drop(columns=['Days in Month'], inplace=True)\n",
    "\n",
    "# Save updated dataset\n",
    "df_merged.to_csv(\"updated_dataset.csv\", index=False)\n",
    "\n",
    "print(df_merged.head())\n"
   ]
  },
  {
   "cell_type": "code",
   "execution_count": null,
   "metadata": {},
   "outputs": [
    {
     "name": "stdout",
     "output_type": "stream",
     "text": [
      "Updated dataset saved as 'final_dataset_with_inflation_by_country.csv'.\n"
     ]
    },
    {
     "name": "stderr",
     "output_type": "stream",
     "text": [
      "C:\\Users\\Vianiece\\AppData\\Local\\Temp\\ipykernel_33948\\2877213688.py:30: FutureWarning: A value is trying to be set on a copy of a DataFrame or Series through chained assignment using an inplace method.\n",
      "The behavior will change in pandas 3.0. This inplace method will never work because the intermediate object on which we are setting values always behaves as a copy.\n",
      "\n",
      "For example, when doing 'df[col].method(value, inplace=True)', try using 'df.method({col: value}, inplace=True)' or df[col] = df[col].method(value) instead, to perform the operation inplace on the original object.\n",
      "\n",
      "\n",
      "  merged_df[\"Inflation\"].fillna(method=\"ffill\", inplace=True)\n",
      "C:\\Users\\Vianiece\\AppData\\Local\\Temp\\ipykernel_33948\\2877213688.py:30: FutureWarning: Series.fillna with 'method' is deprecated and will raise in a future version. Use obj.ffill() or obj.bfill() instead.\n",
      "  merged_df[\"Inflation\"].fillna(method=\"ffill\", inplace=True)\n"
     ]
    }
   ],
   "source": [
    "#include inflation data\n",
    "import pandas as pd\n",
    "\n",
    "# Load the main dataset\n",
    "main_df = pd.read_csv(\"updated_dataset.csv\")\n",
    "\n",
    "# Load the inflation dataset\n",
    "inflation_df = pd.read_csv(\"global_inflation_data.csv\")\n",
    "\n",
    "# Transform inflation data from wide to long format\n",
    "inflation_df = inflation_df.melt(id_vars=[\"country_name\", \"indicator_name\"], \n",
    "                                 var_name=\"Year\", value_name=\"Inflation\")\n",
    "\n",
    "# Convert \"Year\" to integer and filter only relevant years (excluding 2002-2004)\n",
    "inflation_df[\"Year\"] = inflation_df[\"Year\"].astype(int)\n",
    "inflation_df = inflation_df[\n",
    "    (inflation_df[\"Year\"].between(2000, 2025)) & \n",
    "    (~inflation_df[\"Year\"].isin([2002, 2003, 2004, 2020, 2021, 2022]))\n",
    "]\n",
    "\n",
    "# Drop the \"indicator_name\" column\n",
    "inflation_df.drop(columns=[\"indicator_name\"], inplace=True)\n",
    "\n",
    "# Rename 'country_name' to 'Country' for merging consistency\n",
    "inflation_df.rename(columns={\"country_name\": \"Country\"}, inplace=True)\n",
    "\n",
    "# **Merge inflation data directly using Country and Year**\n",
    "merged_df = main_df.merge(inflation_df, on=[\"Country\", \"Year\"], how=\"left\")\n",
    "\n",
    "# Forward fill missing values in Inflation column\n",
    "merged_df[\"Inflation\"].fillna(method=\"ffill\", inplace=True)\n",
    "\n",
    "# Drop rows where Inflation is still missing after forward fill\n",
    "merged_df = merged_df.dropna(subset=[\"Inflation\"])\n",
    "\n",
    "# Save the updated dataset\n",
    "merged_df.to_csv(\"final_dataset_with_inflation_by_country.csv\", index=False)\n",
    "print(\"Updated dataset saved as 'final_dataset_with_inflation_by_country.csv'.\")\n"
   ]
  }
 ],
 "metadata": {
  "kernelspec": {
   "display_name": "Python 3",
   "language": "python",
   "name": "python3"
  },
  "language_info": {
   "codemirror_mode": {
    "name": "ipython",
    "version": 3
   },
   "file_extension": ".py",
   "mimetype": "text/x-python",
   "name": "python",
   "nbconvert_exporter": "python",
   "pygments_lexer": "ipython3",
   "version": "3.12.2"
  }
 },
 "nbformat": 4,
 "nbformat_minor": 2
}
