{
 "cells": [
  {
   "cell_type": "code",
   "execution_count": 4,
   "metadata": {},
   "outputs": [],
   "source": [
    "import pandas as pd\n",
    "import numpy as np\n",
    "import calendar\n",
    "\n",
    "from sklearn.preprocessing import StandardScaler, OneHotEncoder"
   ]
  },
  {
   "cell_type": "code",
   "execution_count": 5,
   "metadata": {},
   "outputs": [
    {
     "name": "stderr",
     "output_type": "stream",
     "text": [
      "C:\\Users\\Vianiece\\AppData\\Local\\Temp\\ipykernel_37076\\1263402075.py:47: FutureWarning: A value is trying to be set on a copy of a DataFrame or Series through chained assignment using an inplace method.\n",
      "The behavior will change in pandas 3.0. This inplace method will never work because the intermediate object on which we are setting values always behaves as a copy.\n",
      "\n",
      "For example, when doing 'df[col].method(value, inplace=True)', try using 'df.method({col: value}, inplace=True)' or df[col] = df[col].method(value) instead, to perform the operation inplace on the original object.\n",
      "\n",
      "\n",
      "  df_train[\"Inflation\"].fillna(method=\"ffill\", inplace=True)\n",
      "C:\\Users\\Vianiece\\AppData\\Local\\Temp\\ipykernel_37076\\1263402075.py:47: FutureWarning: Series.fillna with 'method' is deprecated and will raise in a future version. Use obj.ffill() or obj.bfill() instead.\n",
      "  df_train[\"Inflation\"].fillna(method=\"ffill\", inplace=True)\n",
      "C:\\Users\\Vianiece\\AppData\\Local\\Temp\\ipykernel_37076\\1263402075.py:48: FutureWarning: A value is trying to be set on a copy of a DataFrame or Series through chained assignment using an inplace method.\n",
      "The behavior will change in pandas 3.0. This inplace method will never work because the intermediate object on which we are setting values always behaves as a copy.\n",
      "\n",
      "For example, when doing 'df[col].method(value, inplace=True)', try using 'df.method({col: value}, inplace=True)' or df[col] = df[col].method(value) instead, to perform the operation inplace on the original object.\n",
      "\n",
      "\n",
      "  df_test[\"Inflation\"].fillna(method=\"ffill\", inplace=True)\n",
      "C:\\Users\\Vianiece\\AppData\\Local\\Temp\\ipykernel_37076\\1263402075.py:48: FutureWarning: Series.fillna with 'method' is deprecated and will raise in a future version. Use obj.ffill() or obj.bfill() instead.\n",
      "  df_test[\"Inflation\"].fillna(method=\"ffill\", inplace=True)\n"
     ]
    }
   ],
   "source": [
    "# Load datasets\n",
    "df_train = pd.read_csv(\"../preprocessing/train_data.csv\")\n",
    "df_test = pd.read_csv(\"../preprocessing/test_data.csv\")\n",
    "df_holidays = pd.read_excel(\"../Dataset/singapore_holidays_00_25_month.xlsx\")\n",
    "df_inflation = pd.read_csv(\"global_inflation_data.csv\")\n",
    "\n",
    "# Define mapping of month names to numbers\n",
    "month_mapping = {\n",
    "    'Jan': 1, 'Feb': 2, 'Mar': 3, 'Apr': 4, 'May': 5, 'Jun': 6,\n",
    "    'Jul': 7, 'Aug': 8, 'Sep': 9, 'Oct': 10, 'Nov': 11, 'Dec': 12\n",
    "}\n",
    "\n",
    "# Apply the month mapping to both train and test data\n",
    "df_train['Month'] = df_train['Month'].map(month_mapping)\n",
    "df_test['Month'] = df_test['Month'].map(month_mapping)\n",
    "\n",
    "# Sort by Year and Month (ascending order) for both datasets\n",
    "df_train = df_train.sort_values(by=['Year', 'Month'], ascending=[True, True]).reset_index(drop=True)\n",
    "df_test = df_test.sort_values(by=['Year', 'Month'], ascending=[True, True]).reset_index(drop=True)\n",
    "\n",
    "# Convert Month to integer type for both datasets\n",
    "df_train['Month'] = df_train['Month'].astype(int)\n",
    "df_test['Month'] = df_test['Month'].astype(int)\n",
    "\n",
    "# Merge holidays data with train and test data\n",
    "df_train = pd.merge(df_train, df_holidays, how='left', on=['Year', 'Month'])\n",
    "df_test = pd.merge(df_test, df_holidays, how='left', on=['Year', 'Month'])\n",
    "\n",
    "# Transform inflation data from wide to long format (melt)\n",
    "inflation_df = df_inflation.melt(id_vars=[\"country_name\", \"indicator_name\"], \n",
    "                                 var_name=\"Year\", value_name=\"Inflation\")\n",
    "\n",
    "# Convert \"Year\" to integer\n",
    "inflation_df[\"Year\"] = inflation_df[\"Year\"].astype(int)\n",
    "\n",
    "# Drop the \"indicator_name\" column\n",
    "inflation_df.drop(columns=[\"indicator_name\"], inplace=True)\n",
    "\n",
    "# Rename 'country_name' to 'Country' for merging consistency\n",
    "inflation_df.rename(columns={\"country_name\": \"Country\"}, inplace=True)\n",
    "\n",
    "# Merge global inflation data with train and test data\n",
    "df_train = pd.merge(df_train, inflation_df, how='left', on=[\"Country\", \"Year\"])\n",
    "df_test = pd.merge(df_test, inflation_df, how='left', on=[\"Country\", \"Year\"])\n",
    "\n",
    "# Forward fill missing values in Inflation column\n",
    "df_train[\"Inflation\"].fillna(method=\"ffill\", inplace=True)\n",
    "df_test[\"Inflation\"].fillna(method=\"ffill\", inplace=True)\n",
    "\n",
    "# Drop rows where Inflation is still missing after forward fill\n",
    "df_train = df_train.dropna(subset=[\"Inflation\"])\n",
    "df_test = df_test.dropna(subset=[\"Inflation\"])\n",
    "\n",
    "# Clean up unnecessary columns (only drop if the column exists)\n",
    "columns_to_drop = ['country_name', 'year']\n",
    "df_train = df_train.drop(columns=[col for col in columns_to_drop if col in df_train.columns])\n",
    "df_test = df_test.drop(columns=[col for col in columns_to_drop if col in df_test.columns])\n",
    "\n",
    "# Save the merged data to CSV for checking purposes\n",
    "df_train.to_csv('train_data_merged.csv', index=False)\n",
    "df_test.to_csv('test_data_merged.csv', index=False)\n"
   ]
  },
  {
   "cell_type": "code",
   "execution_count": 6,
   "metadata": {},
   "outputs": [],
   "source": [
    "# Convert Month into cyclic features\n",
    "df_train['Month_sin'] = np.sin(2 * np.pi * df_train['Month'] / 12)\n",
    "df_train['Month_cos'] = np.cos(2 * np.pi * df_train['Month'] / 12)\n",
    "df_test['Month_sin'] = np.sin(2 * np.pi * df_test['Month'] / 12)\n",
    "df_test['Month_cos'] = np.cos(2 * np.pi * df_test['Month'] / 12)\n",
    "\n",
    "# Create target variable: Total Traffic (Arrivals + Departures)\n",
    "df_train['Total_Traffic'] = df_train['Arrivals'] + df_train['Departures']\n",
    "df_test['Total_Traffic'] = df_test['Arrivals'] + df_test['Departures']\n",
    "\n",
    "# Standardize numerical features like inflation and holidays\n",
    "scaler = StandardScaler()\n",
    "df_train[['Inflation', 'Total Holidays']] = scaler.fit_transform(df_train[['Inflation', 'Total Holidays']])\n",
    "df_test[['Inflation', 'Total Holidays']] = scaler.transform(df_test[['Inflation', 'Total Holidays']])\n",
    "\n",
    "# Save the processed data to CSV\n",
    "df_train.to_csv('train_data_feature_engineered.csv', index=False)\n",
    "df_test.to_csv('test_data_feature_engineered.csv', index=False)\n"
   ]
  }
 ],
 "metadata": {
  "kernelspec": {
   "display_name": "Python 3",
   "language": "python",
   "name": "python3"
  },
  "language_info": {
   "codemirror_mode": {
    "name": "ipython",
    "version": 3
   },
   "file_extension": ".py",
   "mimetype": "text/x-python",
   "name": "python",
   "nbconvert_exporter": "python",
   "pygments_lexer": "ipython3",
   "version": "3.12.2"
  }
 },
 "nbformat": 4,
 "nbformat_minor": 2
}
